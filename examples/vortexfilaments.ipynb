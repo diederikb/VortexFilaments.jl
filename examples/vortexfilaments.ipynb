{
 "cells": [
  {
   "cell_type": "markdown",
   "metadata": {},
   "source": [
    "This package provides tools to create and plot vortex filaments and to compute the velocity they induce in three dimensions with support for infinite and semi-infinite vortex filaments."
   ]
  },
  {
   "cell_type": "code",
   "execution_count": null,
   "metadata": {
    "scrolled": true
   },
   "outputs": [],
   "source": [
    "using VortexFilaments\n",
    "using Plots"
   ]
  },
  {
   "cell_type": "markdown",
   "metadata": {},
   "source": [
    "The package introduces the `VortexFilament` type, which represents a vortex filament that is discretized with vertices and segments connecting those vertices. A vortex filament can be created by calling the provided constructor,"
   ]
  },
  {
   "cell_type": "code",
   "execution_count": null,
   "metadata": {},
   "outputs": [],
   "source": [
    "vertices = [[0.0,0.0,0.0], [0.0,1.0,0.0], [1.0,1.0,0.0], [1.0,0.0,0.0]]\n",
    "Γ = 1.0 # strength of the vortex filament\n",
    "vf = VortexFilament(Γ,vertices)"
   ]
  },
  {
   "cell_type": "markdown",
   "metadata": {},
   "source": [
    "which can then be plotted with the provided type recipe."
   ]
  },
  {
   "cell_type": "code",
   "execution_count": null,
   "metadata": {},
   "outputs": [],
   "source": [
    "plot(vf)"
   ]
  },
  {
   "cell_type": "markdown",
   "metadata": {},
   "source": [
    "The velocity that the vortex filament `vf` induces at a location `x` can be computed using as `inducevelocity(vf,x)`, which returns a 3-element vector representing the velocity vector."
   ]
  },
  {
   "cell_type": "code",
   "execution_count": null,
   "metadata": {},
   "outputs": [],
   "source": [
    "x = [0.5,0.5,0.5]\n",
    "inducevelocity(vf,x)"
   ]
  },
  {
   "cell_type": "markdown",
   "metadata": {},
   "source": [
    "If you don't want the filament to be closed, provide the constructor with the keyword `isclosed=false`.\n"
   ]
  },
  {
   "cell_type": "code",
   "execution_count": null,
   "metadata": {},
   "outputs": [],
   "source": [
    "vf = VortexFilament(Γ,vertices,isclosed=false)\n",
    "plot(vf)"
   ]
  },
  {
   "cell_type": "markdown",
   "metadata": {},
   "source": [
    "The vortex filament can also be an infinite vortex filament or a semi-infinite vortex element. In these cases, you have to provide the plot axis limits for the direction in which the vortex filament extends to infinity. These filaments also work with the `inducevelocity` method."
   ]
  },
  {
   "cell_type": "code",
   "execution_count": null,
   "metadata": {},
   "outputs": [],
   "source": [
    "vertices = [[-Inf,0.0,0.0], [Inf,0.0,0.0]]\n",
    "Γ = 1.0 # strength of the vortex filament\n",
    "vf = VortexFilament(Γ,vertices) # infinite vortex filament"
   ]
  },
  {
   "cell_type": "code",
   "execution_count": null,
   "metadata": {},
   "outputs": [],
   "source": [
    "plot(vf,xlims=[-2,2],ylims=[-2,2])"
   ]
  },
  {
   "cell_type": "code",
   "execution_count": null,
   "metadata": {
    "scrolled": false
   },
   "outputs": [],
   "source": [
    "vertices = [[0,0.0,0.0], [Inf,0.0,0.0]]\n",
    "Γ = 1.0 # strength of the vortex filament\n",
    "vf = VortexFilament(Γ,vertices) # semi-infinite vortex filament"
   ]
  },
  {
   "cell_type": "code",
   "execution_count": null,
   "metadata": {},
   "outputs": [],
   "source": [
    "plot(vf,xlims=[-2,2],ylims=[-2,2])"
   ]
  },
  {
   "cell_type": "markdown",
   "metadata": {},
   "source": [
    "These filaments also work with the `inducevelocity` method. This provides the possibility to model a horseshoe vortex.\n"
   ]
  },
  {
   "cell_type": "code",
   "execution_count": null,
   "metadata": {},
   "outputs": [],
   "source": [
    "b = 1\n",
    "Γ = -1.0 # sign depends on the order of the vertices\n",
    "v1 = [Inf,-b/2,0]\n",
    "v2 = [0,-b/2,0]\n",
    "v3 = [0,b/2,0]\n",
    "v4 = [Inf,b/2,0]\n",
    "vf = VortexFilament(Γ,[v1,v2,v3,v4])\n",
    "yrange1 = range(-b/2,b/2,length=20)\n",
    "xevals = [[0.0,y,0.0] for y in yrange1[2:end-1]];\n",
    "w = inducevelocity.(Ref(vf),xevals);"
   ]
  },
  {
   "cell_type": "markdown",
   "metadata": {},
   "source": [
    "We will compare the induced velocity with the formula for the downwash for a horseshoe vortex.\n"
   ]
  },
  {
   "cell_type": "code",
   "execution_count": null,
   "metadata": {},
   "outputs": [],
   "source": [
    "yrange2 = range(-b/2,b/2,length=100)\n",
    "downwash(Γ,b,y) = -Γ/(4π)*b/((b/2)^2-y^2);"
   ]
  },
  {
   "cell_type": "code",
   "execution_count": null,
   "metadata": {},
   "outputs": [],
   "source": [
    "wvec = [[xevals[i],xevals[i]+w[i]] for i in 1:length(w)];\n",
    "p = plot(vf,xlims=[-1,4],ylims=[-0.6*b,0.6*b],label=false)\n",
    "for i in 1:length(wvec)\n",
    "    plot3d!((v->v[1]).(wvec[i]),(v->v[2]).(wvec[i]),(v->v[3]).(wvec[i]),color=:black,label=false)\n",
    "end\n",
    "plot3d!(zeros(length(yrange2)),yrange2,downwash.(1.0,b,yrange2),label=false)"
   ]
  }
 ],
 "metadata": {
  "@webio": {
   "lastCommId": null,
   "lastKernelId": null
  },
  "kernelspec": {
   "display_name": "Julia 1.6.0",
   "language": "julia",
   "name": "julia-1.6"
  },
  "language_info": {
   "file_extension": ".jl",
   "mimetype": "application/julia",
   "name": "julia",
   "version": "1.6.0"
  }
 },
 "nbformat": 4,
 "nbformat_minor": 2
}
